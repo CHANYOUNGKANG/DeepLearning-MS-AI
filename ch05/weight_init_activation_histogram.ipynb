{
  "cells": [
    {
      "cell_type": "code",
      "source": [
        "# coding: utf-8\n",
        "# coding: utf-8\n",
        "import numpy as np\n",
        "import matplotlib.pyplot as plt\n",
        "\n",
        "# Sigmoid 함수 선언\n",
        "# Sigmoid 함수는 입력을 0과 1 사이의 값으로 변환하는 비선형 함수로,\n",
        "# 출력 값이 항상 0에서 1 사이의 실수가 되어, 뉴런의 활성화 여부를 결정\n",
        "def sigmoid(x):\n",
        "    return 1 / (1 + np.exp(-x))\n",
        "\n",
        "# ReLU 함수 선언\n",
        "# ReLU (Rectified Linear Unit) 함수는 입력이 0보다 작으면 0을 출력하고,\n",
        "# 0보다 크면 그대로 출력하는 함수로, 신경망에서 많이 사용됨\n",
        "def ReLU(x):\n",
        "    return np.maximum(0, x)\n",
        "\n",
        "# tanh 함수 선언\n",
        "# tanh 함수는 입력 값을 -1과 1 사이의 값으로 변환하며, 신경망에서 활성화 함수로 사용됨\n",
        "def tanh(x):\n",
        "    return np.tanh(x)\n",
        "\n",
        "# 입력 데이터 생성\n",
        "# 1000개의 데이터 샘플을 생성하고, 각 샘플은 100개의 특성을 가짐\n",
        "input_data = np.random.randn(1000, 100)  # 1000개의 데이터\n",
        "node_num = 100  # 각 은닉층의 노드(뉴런) 수, 즉 각 은닉층에서 100개의 노드가 있음\n",
        "hidden_layer_size = 5  # 은닉층이 5개\n",
        "activations = {}  # 이곳에 각 은닉층의 활성화 결과를 저장할 딕셔너리\n",
        "\n",
        "x = input_data  # 입력 데이터를 변수 x에 저장\n",
        "\n",
        "# 은닉층을 순차적으로 처리하는 루프\n",
        "for i in range(hidden_layer_size):\n",
        "    if i != 0:\n",
        "        x = activations[i-1]  # 이전 층의 활성화 값을 다음 층의 입력으로 사용\n",
        "\n",
        "    # 가중치 초기값 설정 방법 비교\n",
        "    # 가중치 w를 가우시안 분포로부터 무작위로 생성\n",
        "    # 가중치 초기값을 설정할 때 표준편차를 어떻게 설정하는지에 따라 성능에 영향을 줄 수 있음\n",
        "    # 아래 예시는 다양한 가중치 초기화 방법을 비교하는 부분\n",
        "    w = np.random.randn(node_num, node_num) * 1  # 표준편차 1인 가우시안 분포로 초기화\n",
        "    # w = np.random.randn(node_num, node_num) * 0.01  # 표준편차 0.01인 가우시안 분포로 초기화\n",
        "    # w = np.random.randn(node_num, node_num) * np.sqrt(1.0 / node_num)  # Xavier 초기값\n",
        "    # w = np.random.randn(node_num, node_num) * np.sqrt(2.0 / node_num)  # He 초기값\n",
        "\n",
        "    # 입력 값과 가중치 w의 행렬 곱을 계산하여 뉴런의 총 입력값을 구함\n",
        "    a = np.dot(x, w)\n",
        "\n",
        "    # 활성화 함수 적용 (Sigmoid 함수)\n",
        "    # 활성화 함수는 뉴런의 출력값을 결정하는 함수로,\n",
        "    # 여기서는 Sigmoid 함수를 사용하지만, ReLU나 tanh로 쉽게 바꿀 수 있음\n",
        "    z = sigmoid(a)  # Sigmoid 함수 적용\n",
        "    # z = ReLU(a)   # ReLU 함수로 변경 가능\n",
        "    # z = tanh(a)   # tanh 함수로 변경 가능\n",
        "\n",
        "    activations[i] = z  # 활성화 결과를 딕셔너리에 저장\n",
        "\n",
        "# 히스토그램 그리기\n",
        "# 각 은닉층에서의 활성화 결과 값을 히스토그램으로 시각화\n",
        "for i, a in activations.items():\n",
        "    plt.subplot(1, len(activations), i+1)  # 각 층에 대해 subplot 생성\n",
        "    plt.title(str(i+1) + \"-layer\")  # 그래프 제목을 \"n-layer\" 형식으로 설정\n",
        "    if i != 0: plt.yticks([], [])  # 첫 번째 히스토그램을 제외한 나머지는 y축 눈금을 제거\n",
        "    # plt.xlim(0.1, 1)  # 그래프의 x축 범위를 지정 (옵션)\n",
        "    # plt.ylim(0, 7000)  # 그래프의 y축 범위를 지정 (옵션)\n",
        "    plt.hist(a.flatten(), 30, range=(0,1))  # 활성화 함수의 결과를 히스토그램으로 표현\n",
        "plt.show()  # 히스토그램을 화면에 표시\n"
      ],
      "outputs": [
        {
          "output_type": "display_data",
          "data": {
            "text/plain": "<Figure size 640x480 with 5 Axes>",
            "image/png": "[encoded data removed]"
          },
          "metadata": {}
        }
      ],
      "execution_count": 3,
      "metadata": {
        "gather": {
          "logged": 1729751064544
        }
      }
    }
  ],
  "metadata": {
    "kernelspec": {
      "name": "python310-sdkv2",
      "language": "python",
      "display_name": "Python 3.10 - SDK v2"
    },
    "language_info": {
      "name": "python",
      "version": "3.10.14",
      "mimetype": "text/x-python",
      "codemirror_mode": {
        "name": "ipython",
        "version": 3
      },
      "pygments_lexer": "ipython3",
      "nbconvert_exporter": "python",
      "file_extension": ".py"
    },
    "kernel_info": {
      "name": "python310-sdkv2"
    },
    "nteract": {
      "version": "nteract-front-end@1.0.0"
    },
    "microsoft": {
      "host": {
        "AzureML": {
          "notebookHasBeenCompleted": true
        }
      }
    }
  },
  "nbformat": 4,
  "nbformat_minor": 2
}