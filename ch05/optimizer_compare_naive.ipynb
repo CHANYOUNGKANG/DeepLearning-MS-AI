{
  "cells": [
    {
      "cell_type": "code",
      "execution_count": 3,
      "metadata": {
        "gather": {
          "logged": 1729753956326
        }
      },
      "outputs": [
        {
          "name": "stdout",
          "output_type": "stream",
          "text": [
            "c:\\projects\\jupyterProjects\\DeepLearning-MS-AI\\DL3_20241006\\ch05\n"
          ]
        },
        {
          "ename": "NameError",
          "evalue": "name '__file__' is not defined",
          "output_type": "error",
          "traceback": [
            "\u001b[1;31m---------------------------------------------------------------------------\u001b[0m",
            "\u001b[1;31mNameError\u001b[0m                                 Traceback (most recent call last)",
            "Cell \u001b[1;32mIn[3], line 3\u001b[0m\n\u001b[0;32m      1\u001b[0m \u001b[38;5;28;01mimport\u001b[39;00m \u001b[38;5;21;01mos\u001b[39;00m\u001b[38;5;241m,\u001b[39m \u001b[38;5;21;01msys\u001b[39;00m\n\u001b[0;32m      2\u001b[0m \u001b[38;5;28mprint\u001b[39m(os\u001b[38;5;241m.\u001b[39mgetcwd())  \u001b[38;5;66;03m# 현재 작업 디렉토리 출력\u001b[39;00m\n\u001b[1;32m----> 3\u001b[0m current_dir \u001b[38;5;241m=\u001b[39m os\u001b[38;5;241m.\u001b[39mpath\u001b[38;5;241m.\u001b[39mdirname(os\u001b[38;5;241m.\u001b[39mpath\u001b[38;5;241m.\u001b[39mabspath(\u001b[38;5;18;43m__file__\u001b[39;49m))  \u001b[38;5;66;03m# 현재 파일 디렉토리 경로  \u001b[39;00m\n\u001b[0;32m      4\u001b[0m os\u001b[38;5;241m.\u001b[39mchdir(current_dir)  \u001b[38;5;66;03m# 현재 디렉토리로 변경\u001b[39;00m\n\u001b[0;32m      6\u001b[0m \u001b[38;5;28;01mimport\u001b[39;00m \u001b[38;5;21;01mnumpy\u001b[39;00m \u001b[38;5;28;01mas\u001b[39;00m \u001b[38;5;21;01mnp\u001b[39;00m\n",
            "\u001b[1;31mNameError\u001b[0m: name '__file__' is not defined"
          ]
        }
      ],
      "source": [
        "import os, sys\n",
        "print(os.getcwd())  # 현재 작업 디렉토리 출력\n",
        "current_dir = os.path.dirname(os.path.abspath(__file__))  # 현재 파일 디렉토리 경로  \n",
        "os.chdir(current_dir)  # 현재 디렉토리로 변경\n",
        "\n",
        "import numpy as np\n",
        "import matplotlib.pyplot as plt\n",
        "from collections import OrderedDict  # 순서를 유지한 딕셔너리 사용\n",
        "from common.optimizer import *  # Optimizer 관련 모듈 import\n",
        "\n",
        "# 미분 가능한 함수 f(x, y) 정의\n",
        "def f(x, y):\n",
        "    return x**2 / 20.0 + y**2  # 간단한 이차 함수 (비용 함수 역할)\n",
        "\n",
        "# f(x, y)에 대한 편미분 함수 정의\n",
        "def df(x, y):\n",
        "    return x / 10.0, 2.0 * y  # f(x, y)의 편미분 값 계산\n",
        "\n",
        "# 초기 파라미터 설정\n",
        "init_pos = (-7.0, 2.0)  # 초기 위치 (x, y)\n",
        "params = {}  # 파라미터 저장 딕셔너리\n",
        "params['x'], params['y'] = init_pos[0], init_pos[1]  # 초기 위치 저장\n",
        "grads = {}  # 기울기 저장 딕셔너리\n",
        "grads['x'], grads['y'] = 0, 0  # 초기 기울기 값 0으로 설정\n",
        "\n",
        "# Optimizer를 종류별로 OrderedDict에 저장\n",
        "optimizers = OrderedDict()\n",
        "optimizers[\"SGD\"] = SGD(lr=0.95)  # SGD Optimizer 생성\n",
        "optimizers[\"Momentum\"] = Momentum(lr=0.1)  # Momentum Optimizer 생성\n",
        "optimizers[\"AdaGrad\"] = AdaGrad(lr=1.5)  # AdaGrad Optimizer 생성\n",
        "optimizers[\"Adam\"] = Adam(lr=0.3)  # Adam Optimizer 생성\n",
        "\n",
        "idx = 1  # 그래프의 인덱스\n",
        "\n",
        "# Optimizer 별로 기울기를 계산하고 파라미터를 업데이트하는 과정\n",
        "for key in optimizers:\n",
        "    optimizer = optimizers[key]  # 각 Optimizer 선택\n",
        "    x_history = []  # x 좌표의 변화를 기록할 리스트\n",
        "    y_history = []  # y 좌표의 변화를 기록할 리스트\n",
        "    params['x'], params['y'] = init_pos[0], init_pos[1]  # 파라미터 초기화\n",
        "\n",
        "    # 30번 반복하며 파라미터 업데이트\n",
        "    for i in range(30):\n",
        "        # 편미분 값 계산\n",
        "        grads['x'], grads['y'] = df(params['x'], params['y'])\n",
        "        # Optimizer를 사용하여 파라미터 업데이트\n",
        "        optimizer.update(params, grads)\n",
        "        # 각 좌표의 변화 기록\n",
        "        x_history.append(params['x'])\n",
        "        y_history.append(params['y'])\n",
        "\n",
        "    # 그래프 그리기 준비\n",
        "    x = np.arange(-10, 10, 0.01)  # x 좌표 범위 설정\n",
        "    y = np.arange(-5, 5, 0.01)  # y 좌표 범위 설정\n",
        "    X, Y = np.meshgrid(x, y)  # 2차원 평면 그리드 생성\n",
        "    Z = f(X, Y)  # 등고선 그릴 데이터 생성\n",
        "\n",
        "    # 플롯 설정\n",
        "    plt.subplot(2, 2, idx)  # 2x2 서브플롯 중 하나 선택\n",
        "    idx += 1\n",
        "    plt.plot(x_history, y_history, 'o-', color=\"red\")  # Optimizer 별로 변화 기록을 그리기\n",
        "    plt.contour(X, Y, Z)  # 등고선 그래프 추가\n",
        "    plt.xlim(-10, 10)  # x 축 제한\n",
        "    plt.ylim(-10, 10)  # y 축 제한\n",
        "    plt.plot(init_pos[0], init_pos[1], 'o', color='blue', markersize=10)  # 초기 위치 표시\n",
        "    plt.title(key)  # 서브플롯의 제목에 Optimizer 이름 표시\n",
        "    plt.xlabel(\"x\")  # x축 레이블\n",
        "    plt.ylabel(\"y\")  # y축 레이블\n",
        "\n",
        "plt.show()  # 그래프 출력\n"
      ]
    }
  ],
  "metadata": {
    "kernel_info": {
      "name": "python310-sdkv2"
    },
    "kernelspec": {
      "display_name": "Python 3",
      "language": "python",
      "name": "python3"
    },
    "language_info": {
      "codemirror_mode": {
        "name": "ipython",
        "version": 3
      },
      "file_extension": ".py",
      "mimetype": "text/x-python",
      "name": "python",
      "nbconvert_exporter": "python",
      "pygments_lexer": "ipython3",
      "version": "3.11.9"
    },
    "microsoft": {
      "host": {
        "AzureML": {
          "notebookHasBeenCompleted": true
        }
      }
    },
    "nteract": {
      "version": "nteract-front-end@1.0.0"
    }
  },
  "nbformat": 4,
  "nbformat_minor": 2
}
