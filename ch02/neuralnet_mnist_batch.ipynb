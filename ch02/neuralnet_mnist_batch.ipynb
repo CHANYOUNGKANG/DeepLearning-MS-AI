{
  "cells": [
    {
      "cell_type": "code",
      "source": [
        "# coding: utf-8\n",
        "\n",
        "\n",
        "# coding: utf-8\n",
        "import sys, os\n",
        "from pathlib import Path\n",
        "\n",
        "print(os.getcwd())  # 현재 작업 디렉토리 출력\n",
        "current_dir = os.path.dirname(os.getcwd())  # 현재 디렉토리 설정\n",
        "parent_dir = os.path.dirname(os.path.dirname(os.getcwd()))  # 상위 디렉토리 설정\n",
        "print(current_dir)\n",
        "os.chdir(current_dir)  # 작업 디렉토리를 현재 디렉토리로 변경\n",
        "\n",
        "import numpy as np  # 넘파이 임포트\n",
        "import pickle  # pickle 라이브러리 임포트\n",
        "from dataset.mnist import load_mnist  # MNIST 데이터셋 로드 함수 임포트\n",
        "from common.functions import sigmoid, softmax  # Sigmoid 및 Softmax 함수 임포트\n",
        "\n",
        "# 데이터셋 로드 함수\n",
        "def get_data():\n",
        "    (x_train, t_train), (x_test, t_test) = load_mnist(normalize=True, flatten=True, one_hot_label=False)\n",
        "    return x_test, t_test\n",
        "\n",
        "# 신경망 가중치 불러오기\n",
        "def init_network():\n",
        "    with open(\"ch02/sample_weight.pkl\", 'rb') as f:  # 가중치 파일 로드\n",
        "        network = pickle.load(f)\n",
        "    return network\n"
      ],
      "outputs": [
        {
          "output_type": "stream",
          "name": "stdout",
          "text": "/mnt/batch/tasks/shared/LS_root/mounts/clusters/b001-dl/code/Users/5b001/DL3_20241006/ch02\n/mnt/batch/tasks/shared/LS_root/mounts/clusters/b001-dl/code/Users/5b001/DL3_20241006\n"
        }
      ],
      "execution_count": 1,
      "metadata": {
        "gather": {
          "logged": 1729583351668
        }
      }
    },
    {
      "cell_type": "code",
      "source": [
        "# 신경망 예측 함수\n",
        "def predict(network, x):\n",
        "    W1, W2, W3 = network['W1'], network['W2'], network['W3']  # 가중치 불러오기\n",
        "    b1, b2, b3 = network['b1'], network['b2'], network['b3']  # 편향 불러오기\n",
        "\n",
        "    a1 = np.dot(x, W1) + b1  # 1층의 가중치 합계 계산\n",
        "    z1 = sigmoid(a1)  # 1층 활성화 함수 적용\n",
        "    a2 = np.dot(z1, W2) + b2  # 2층 가중치 합계 계산\n",
        "    z2 = sigmoid(a2)  # 2층 활성화 함수 적용\n",
        "    a3 = np.dot(z2, W3) + b3  # 3층 가중치 합계 계산\n",
        "    y = softmax(a3)  # 최종 출력 계산\n",
        "\n",
        "    return y  # 결과 반환\n",
        "\n",
        "# 데이터 불러오기 및 신경망 초기화\n",
        "x, t = get_data()\n",
        "network = init_network()\n",
        "\n",
        "batch_size = 100  # 배치 크기 지정\n",
        "accuracy_cnt = 0  # 정확도 카운트 초기화\n",
        "\n",
        "# 배치 단위로 예측 작업 수행\n",
        "for i in range(0, len(x), batch_size):\n",
        "    x_batch = x[i:i+batch_size]  # 배치 데이터 추출\n",
        "    y_batch = predict(network, x_batch)  # 신경망을 통해 예측 수행\n",
        "    p = np.argmax(y_batch, axis=1)  # 예측 결과 중 가장 높은 확률을 가진 인덱스 선택\n",
        "    accuracy_cnt += np.sum(p == t[i:i+batch_size])  # 정확도 계산\n",
        "\n",
        "# 최종 정확도 출력\n",
        "print(\"Accuracy:\" + str(float(accuracy_cnt) / len(x)))\n"
      ],
      "outputs": [
        {
          "output_type": "stream",
          "name": "stdout",
          "text": "Accuracy:0.9352\n"
        }
      ],
      "execution_count": 2,
      "metadata": {
        "jupyter": {
          "source_hidden": false,
          "outputs_hidden": false
        },
        "nteract": {
          "transient": {
            "deleting": false
          }
        },
        "gather": {
          "logged": 1729583353621
        }
      }
    }
  ],
  "metadata": {
    "kernel_info": {
      "name": "python310-sdkv2"
    },
    "kernelspec": {
      "name": "python310-sdkv2",
      "language": "python",
      "display_name": "Python 3.10 - SDK v2"
    },
    "language_info": {
      "name": "python",
      "version": "3.10.14",
      "mimetype": "text/x-python",
      "codemirror_mode": {
        "name": "ipython",
        "version": 3
      },
      "pygments_lexer": "ipython3",
      "nbconvert_exporter": "python",
      "file_extension": ".py"
    },
    "microsoft": {
      "host": {
        "AzureML": {
          "notebookHasBeenCompleted": true
        }
      }
    },
    "nteract": {
      "version": "nteract-front-end@1.0.0"
    }
  },
  "nbformat": 4,
  "nbformat_minor": 2
}