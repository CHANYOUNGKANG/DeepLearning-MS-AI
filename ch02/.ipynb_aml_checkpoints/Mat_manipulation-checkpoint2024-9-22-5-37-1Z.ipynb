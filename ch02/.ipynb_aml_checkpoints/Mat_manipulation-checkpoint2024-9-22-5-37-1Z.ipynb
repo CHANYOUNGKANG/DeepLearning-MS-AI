{
  "cells": [
    {
      "cell_type": "code",
      "source": [
        "import numpy as np\n",
        "\n",
        "A = np.array([1,2,3,4])\n",
        "print(A)\n",
        "print(np.ndim(A))\n",
        "print(A.shape)\n",
        "\n",
        "B = np.array([[1, 2], [3, 4], [5, 6]])\n",
        "print(B)\n",
        "print(np.ndim(B))\n",
        "print(B.shape)\n"
      ],
      "outputs": [],
      "execution_count": null,
      "metadata": {
        "gather": {
          "logged": 1720240144026
        }
      }
    }
  ],
  "metadata": {
    "kernel_info": {
      "name": "python3"
    },
    "kernelspec": {
      "display_name": "Python 3 (ipykernel)",
      "language": "python",
      "name": "python3"
    },
    "language_info": {
      "codemirror_mode": {
        "name": "ipython",
        "version": 3
      },
      "file_extension": ".py",
      "mimetype": "text/x-python",
      "name": "python",
      "nbconvert_exporter": "python",
      "pygments_lexer": "ipython3",
      "version": "3.9.18"
    },
    "microsoft": {
      "host": {
        "AzureML": {
          "notebookHasBeenCompleted": true
        }
      }
    },
    "nteract": {
      "version": "nteract-front-end@1.0.0"
    }
  },
  "nbformat": 4,
  "nbformat_minor": 2
}