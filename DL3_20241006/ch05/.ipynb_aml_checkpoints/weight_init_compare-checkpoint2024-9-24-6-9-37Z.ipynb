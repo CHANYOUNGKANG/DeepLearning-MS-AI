{
  "cells": [
    {
      "cell_type": "code",
      "source": [
        "import os, sys\n",
        "print(os.getcwd())  # 현재 작업 디렉토리 출력\n",
        "current_dir = os.path.dirname(os.path.abspath(\"/mnt/batch/tasks/shared/LS_root/mounts/clusters/b001-dl/code/Users/5b001/DL3_20241006/common\")  # 현재 파일의 디렉토리 경로 가져오기\n",
        "print(current_dir)\n",
        "os.chdir(current_dir)  # 현재 디렉토리로 변경\n",
        "\n",
        "import numpy as np\n",
        "import matplotlib.pyplot as plt\n",
        "from dataset.mnist import load_mnist  # 숫자 데이터를 다운로드\n",
        "from common.util import smooth_curve\n",
        "from common.multi_layer_net import MultilayerNet\n",
        "from common.optimizer import SGD  # Stochastic Gradient Descent Optimizer 사용\n",
        "\n",
        "# 0. MNIST 데이터 읽기 ==================\n",
        "(x_train, t_train), (x_test, t_test) = load_mnist(normalize=True)  # MNIST 데이터셋 로드\n",
        "train_size = x_train.shape[0]  # 학습 데이터 크기 정의\n",
        "batch_size = 128  # 미니배치 크기 설정\n",
        "max_iterations = 2000  # 최대 반복 횟수 설정\n",
        "\n",
        "# 1. 실험 설정 ===================\n",
        "weight_init_types = {'std=0.01': 0.01, 'Xavier': 'sigmoid', 'He': 'relu'}  # Weight 초기값 종류별 지정\n",
        "optimizer = SGD(lr=0.01)  # 학습률이 0.01인 SGD Optimizer 사용\n",
        "\n",
        "networks = {}  # 신경망 딕셔너리 생성\n",
        "train_loss = {}  # 학습 손실값을 저장할 딕셔너리 생성\n",
        "\n",
        "for key, weight_type in weight_init_types.items():  # Weight 초기화 방법별로 신경망 생성\n",
        "    networks[key] = MultilayerNet(input_size=784, hidden_size_list=[100, 100, 100, 100],\n",
        "                                  output_size=10, weight_init_std=weight_type)\n",
        "\n",
        "train_loss[key] = []  # 초기 손실값 저장을 위한 리스트 생성\n",
        "\n",
        "# 2. 훈련 시작 ===================\n",
        "for i in range(max_iterations):\n",
        "    batch_mask = np.random.choice(train_size, batch_size)  # 랜덤으로 배치 크기만큼 데이터 샘플 추출\n",
        "    x_batch = x_train[batch_mask]  # 학습용 배치 데이터\n",
        "    t_batch = t_train[batch_mask]  # 학습용 배치 레이블\n",
        "\n",
        "    for key in weight_init_types.keys():  # 네트워크별로 기울기를 계산하고 가중치를 업데이트\n",
        "        grads = networks[key].gradient(x_batch, t_batch)\n",
        "        optimizer.update(networks[key].params, grads)\n",
        "\n",
        "        loss = networks[key].loss(x_batch, t_batch)  # 배치 데이터를 통해 손실값 계산\n",
        "        train_loss[key].append(loss)  # 계산된 손실값을 저장\n",
        "\n",
        "    if i % 100 == 0:  # 100회마다 학습 경과 출력\n",
        "        print(\"===========\" + \"iteration:\" + str(i) + \"===========\")\n",
        "        for key in weight_init_types.keys():  # Weight 초기화 방법별 손실값 출력\n",
        "            loss = networks[key].loss(x_batch, t_batch)\n",
        "            print(key + ':' + str(loss))\n",
        "\n",
        "# 3. 그래프 그리기 =================\n",
        "markers = {'std=0.01': 'o', 'Xavier': 's', 'He': 'D'}  # 그래프에 사용할 마커 지정\n",
        "x = np.arange(max_iterations)  # x축에 사용할 값들 (반복 횟수)\n",
        "\n",
        "for key in weight_init_types.keys():\n",
        "    plt.plot(x, smooth_curve(train_loss[key]), marker=markers[key], markevery=100, label=key)  # 손실값 그래프\n",
        "\n",
        "plt.xlabel(\"iterations\")  # x축 레이블\n",
        "plt.ylabel(\"loss\")  # y축 레이블\n",
        "plt.ylim(0, 2.5)  # y축 범위 설정\n",
        "plt.legend()  # 범례 표시\n",
        "plt.show()  # 그래프 출력\n"
      ],
      "outputs": [
        {
          "output_type": "stream",
          "name": "stdout",
          "text": "/mnt/batch/tasks/shared/LS_root/mounts/clusters/b001-dl/code/Users/5b001/DL3_20241006\n/mnt/batch/tasks/shared/LS_root/mounts/clusters/b001-dl/code/Users/5b001/DL3_20241006\n"
        },
        {
          "output_type": "error",
          "ename": "ImportError",
          "evalue": "cannot import name 'MultilayerNet' from 'common.multi_layer_net' (/mnt/batch/tasks/shared/LS_root/mounts/clusters/b001-dl/code/Users/5b001/DL3_20241006/common/multi_layer_net.py)",
          "traceback": [
            "\u001b[0;31m---------------------------------------------------------------------------\u001b[0m",
            "\u001b[0;31mImportError\u001b[0m                               Traceback (most recent call last)",
            "Cell \u001b[0;32mIn[3], line 11\u001b[0m\n\u001b[1;32m      9\u001b[0m \u001b[38;5;28;01mfrom\u001b[39;00m \u001b[38;5;21;01mdataset\u001b[39;00m\u001b[38;5;21;01m.\u001b[39;00m\u001b[38;5;21;01mmnist\u001b[39;00m \u001b[38;5;28;01mimport\u001b[39;00m load_mnist  \u001b[38;5;66;03m# 숫자 데이터를 다운로드\u001b[39;00m\n\u001b[1;32m     10\u001b[0m \u001b[38;5;28;01mfrom\u001b[39;00m \u001b[38;5;21;01mcommon\u001b[39;00m\u001b[38;5;21;01m.\u001b[39;00m\u001b[38;5;21;01mutil\u001b[39;00m \u001b[38;5;28;01mimport\u001b[39;00m smooth_curve\n\u001b[0;32m---> 11\u001b[0m \u001b[38;5;28;01mfrom\u001b[39;00m \u001b[38;5;21;01mcommon\u001b[39;00m\u001b[38;5;21;01m.\u001b[39;00m\u001b[38;5;21;01mmulti_layer_net\u001b[39;00m \u001b[38;5;28;01mimport\u001b[39;00m MultilayerNet\n\u001b[1;32m     12\u001b[0m \u001b[38;5;28;01mfrom\u001b[39;00m \u001b[38;5;21;01mcommon\u001b[39;00m\u001b[38;5;21;01m.\u001b[39;00m\u001b[38;5;21;01moptimizer\u001b[39;00m \u001b[38;5;28;01mimport\u001b[39;00m SGD  \u001b[38;5;66;03m# Stochastic Gradient Descent Optimizer 사용\u001b[39;00m\n\u001b[1;32m     14\u001b[0m \u001b[38;5;66;03m# 0. MNIST 데이터 읽기 ==================\u001b[39;00m\n",
            "\u001b[0;31mImportError\u001b[0m: cannot import name 'MultilayerNet' from 'common.multi_layer_net' (/mnt/batch/tasks/shared/LS_root/mounts/clusters/b001-dl/code/Users/5b001/DL3_20241006/common/multi_layer_net.py)"
          ]
        }
      ],
      "execution_count": 3,
      "metadata": {
        "gather": {
          "logged": 1729750158980
        }
      }
    }
  ],
  "metadata": {
    "kernelspec": {
      "name": "python310-sdkv2",
      "language": "python",
      "display_name": "Python 3.10 - SDK v2"
    },
    "language_info": {
      "name": "python",
      "version": "3.10.14",
      "mimetype": "text/x-python",
      "codemirror_mode": {
        "name": "ipython",
        "version": 3
      },
      "pygments_lexer": "ipython3",
      "nbconvert_exporter": "python",
      "file_extension": ".py"
    },
    "kernel_info": {
      "name": "python310-sdkv2"
    },
    "microsoft": {
      "host": {
        "AzureML": {
          "notebookHasBeenCompleted": true
        }
      }
    },
    "nteract": {
      "version": "nteract-front-end@1.0.0"
    }
  },
  "nbformat": 4,
  "nbformat_minor": 2
}