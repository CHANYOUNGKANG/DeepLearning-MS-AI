{
  "cells": [
    {
      "cell_type": "code",
      "source": [
        "# coding: utf-8\n",
        "# AND 게이트 구현\n",
        "import numpy as np\n",
        "def AND(x1, x2):\n",
        "    x = np.array([x1, x2])  # 입력 값 설정\n",
        "    w = np.array([0.5, 0.5])  # 가중치 설정\n",
        "    b = -0.7  # 편향 값 설정\n",
        "    tmp = np.sum(w*x) + b  # 가중치와 입력 값의 곱에 편향을 더한 결과 계산\n",
        "    \n",
        "    if tmp <= 0:\n",
        "        return 0  # 경계값 이하이면 False 반환\n",
        "    else:\n",
        "        return 1  # 경계값 이상이면 True 반환\n",
        "\n",
        "# OR 게이트 구현\n",
        "def OR(x1, x2):\n",
        "    x = np.array([x1, x2])  # 입력 값 설정\n",
        "    w = np.array([0.5, 0.5])  # 가중치 설정\n",
        "    b = -0.2  # 편향 값 설정\n",
        "    tmp = np.sum(w*x) + b  # 가중치와 입력 값의 곱에 편향을 더한 결과 계산\n",
        "    \n",
        "    if tmp <= 0:\n",
        "        return 0  # 경계값 이하이면 False 반환\n",
        "    else:\n",
        "        return 1  # 경계값 이상이면 True 반환\n",
        "\n",
        "# NAND 게이트 구현\n",
        "def NAND(x1, x2):\n",
        "    x = np.array([x1, x2])  # 입력 값 설정\n",
        "    w = np.array([-0.5, -0.5])  # 가중치 설정\n",
        "    b = 0.7  # 편향 값 설정\n",
        "    tmp = np.sum(w*x) + b  # 가중치와 입력 값의 곱에 편향을 더한 결과 계산\n",
        "    \n",
        "    if tmp <= 0:\n",
        "        return 0  # 경계값 이하이면 False 반환\n",
        "    else:\n",
        "        return 1  # 경계값 이상이면 True 반환\n",
        "\n",
        "# XOR 게이트 구현 (NAND, OR, AND의 조합)\n",
        "def XOR(x1, x2):\n",
        "    s1 = NAND(x1, x2)  # NAND 연산\n",
        "    s2 = OR(x1, x2)  # OR 연산\n",
        "    y = AND(s1, s2)  # AND 연산으로 XOR 결과 도출\n",
        "    return y\n",
        "\n",
        "# 테스트 실행 코드\n",
        "if __name__ == '__main__':\n",
        "    for xs in [(0, 0), (1, 0), (0, 1), (1, 1)]:\n",
        "        y = XOR(xs[0], xs[1])\n",
        "        print(str(xs) + \" --> \" + str(y))\n",
        "\n",
        "# 설명:\n",
        "# AND, OR, NAND 게이트는 각각 논리 연산을 수행하는 기본 요소입니다.\n",
        "# XOR 게이트는 NAND, OR, AND 게이트의 조합을 통해 구현됩니다.\n",
        "# XOR는 두 입력이 다를 때만 True(1)를 반환합니다.\n"
      ],
      "outputs": [
        {
          "output_type": "stream",
          "name": "stdout",
          "text": "(0, 0) --> 0\n(1, 0) --> 1\n(0, 1) --> 1\n(1, 1) --> 0\n"
        }
      ],
      "execution_count": 1,
      "metadata": {
        "gather": {
          "logged": 1729564625463
        }
      }
    }
  ],
  "metadata": {
    "kernel_info": {
      "name": "python3"
    },
    "kernelspec": {
      "name": "python3",
      "language": "python",
      "display_name": "Python 3 (ipykernel)"
    },
    "language_info": {
      "name": "python",
      "version": "3.10.11",
      "mimetype": "text/x-python",
      "codemirror_mode": {
        "name": "ipython",
        "version": 3
      },
      "pygments_lexer": "ipython3",
      "nbconvert_exporter": "python",
      "file_extension": ".py"
    },
    "microsoft": {
      "host": {
        "AzureML": {
          "notebookHasBeenCompleted": true
        }
      }
    },
    "nteract": {
      "version": "nteract-front-end@1.0.0"
    }
  },
  "nbformat": 4,
  "nbformat_minor": 2
}